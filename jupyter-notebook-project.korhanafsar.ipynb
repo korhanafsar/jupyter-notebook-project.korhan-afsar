{
  "metadata": {
    "kernelspec": {
      "name": "python",
      "display_name": "Python (Pyodide)",
      "language": "python"
    },
    "language_info": {
      "name": ""
    }
  },
  "nbformat_minor": 4,
  "nbformat": 4,
  "cells": [
    {
      "cell_type": "markdown",
      "source": "# My Jupyter Notebook on IBM Watson Studio\n## Introduction\nI am learning data science and enjoying it. This notebook is part of a final project to demonstrate my skills.\n## Data Science Languages\nSome of the popular data science languages are:\n1. Python\n2. R\n3. SQL\n4. Julia\n5. Scala\n## Data Science Libraries\nPopular data science libraries include:\n1. Pandas\n2. NumPy\n3. Matplotlib\n4. Scikit-learn\n5. TensorFlow\n6. Keras\n7. ggplot2\n8. dplyr\n## Data Science Tools\n| Tool             | Description                     |\n|-------------------|---------------------------------|\n| Jupyter Notebook | Interactive computing          |\n| RStudio          | IDE for R programming          |\n| TensorFlow       | Deep learning library          |\n| Apache Spark     | Big data processing framework  |\n| Tableau          | Data visualization             |\n## Introduction to Arithmetic Expressions\nArithmetic expressions include basic operations like addition, subtraction, multiplication, and division.\n# Multiplying and adding numbers\n(3 * 4) + 5\n# Converting minutes to hours\nminutes = 200\nhours = minutes / 60\nhours\n## Objectives\nThe main objectives of this notebook are:\n- Demonstrate the use of Jupyter Notebook\n- List data science languages and libraries\n- Perform basic arithmetic operations\n- Showcase the use of markdown and code cells\n## Author\nKorhan Afsar\n",
      "metadata": {}
    },
    {
      "cell_type": "code",
      "source": "",
      "metadata": {
        "trusted": true
      },
      "outputs": [],
      "execution_count": null
    }
  ]
}